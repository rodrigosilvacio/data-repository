{
  "nbformat": 4,
  "nbformat_minor": 0,
  "metadata": {
    "colab": {
      "provenance": [],
      "authorship_tag": "ABX9TyONJ0ykkZ4dhj4OGD58XuSO",
      "include_colab_link": true
    },
    "kernelspec": {
      "name": "python3",
      "display_name": "Python 3"
    },
    "language_info": {
      "name": "python"
    }
  },
  "cells": [
    {
      "cell_type": "markdown",
      "metadata": {
        "id": "view-in-github",
        "colab_type": "text"
      },
      "source": [
        "<a href=\"https://colab.research.google.com/github/rodrigosilvacio/data-repository/blob/main/Big_Data_Fundamentals.ipynb\" target=\"_parent\"><img src=\"https://colab.research.google.com/assets/colab-badge.svg\" alt=\"Open In Colab\"/></a>"
      ]
    },
    {
      "cell_type": "markdown",
      "source": [
        "## Instalação Biblioteca"
      ],
      "metadata": {
        "id": "SS-VMRgheQ-E"
      }
    },
    {
      "cell_type": "code",
      "execution_count": 2,
      "metadata": {
        "colab": {
          "base_uri": "https://localhost:8080/"
        },
        "id": "qaKlnkfJ4dUv",
        "outputId": "1f31db63-12c8-4fd3-b7f4-4219622c0914"
      },
      "outputs": [
        {
          "output_type": "stream",
          "name": "stdout",
          "text": [
            "Requirement already satisfied: pyspark in /usr/local/lib/python3.11/dist-packages (3.5.5)\n",
            "Requirement already satisfied: py4j==0.10.9.7 in /usr/local/lib/python3.11/dist-packages (from pyspark) (0.10.9.7)\n"
          ]
        }
      ],
      "source": [
        "!pip install pyspark"
      ]
    },
    {
      "cell_type": "code",
      "source": [
        "!pip install findspark"
      ],
      "metadata": {
        "colab": {
          "base_uri": "https://localhost:8080/"
        },
        "id": "dzJDoOQ_48YY",
        "outputId": "894c7e0e-17fb-4515-b61b-f092a6d0c056"
      },
      "execution_count": 3,
      "outputs": [
        {
          "output_type": "stream",
          "name": "stdout",
          "text": [
            "Collecting findspark\n",
            "  Downloading findspark-2.0.1-py2.py3-none-any.whl.metadata (352 bytes)\n",
            "Downloading findspark-2.0.1-py2.py3-none-any.whl (4.4 kB)\n",
            "Installing collected packages: findspark\n",
            "Successfully installed findspark-2.0.1\n"
          ]
        }
      ]
    },
    {
      "cell_type": "code",
      "source": [
        "import findspark\n",
        "findspark.init()\n",
        "\n",
        "from pyspark.sql import SparkSession\n",
        "\n",
        "spark = SparkSession.builder.master(\"local[*]\").getOrCreate()\n",
        "\n",
        "df = spark.sql(\"SELECT 'Sucesso total, estamos online' AS hello\")\n",
        "df.show()\n"
      ],
      "metadata": {
        "colab": {
          "base_uri": "https://localhost:8080/"
        },
        "id": "eaX-QoDnTuvy",
        "outputId": "a3c85779-9f48-4db3-bd9f-028acb30e653"
      },
      "execution_count": 4,
      "outputs": [
        {
          "output_type": "stream",
          "name": "stdout",
          "text": [
            "+--------------------+\n",
            "|               hello|\n",
            "+--------------------+\n",
            "|Sucesso total, es...|\n",
            "+--------------------+\n",
            "\n"
          ]
        }
      ]
    },
    {
      "cell_type": "code",
      "source": [
        "# Import spark libraries\n",
        "from pyspark.sql import Row, DataFrame\n",
        "from pyspark.sql.types import StringType, StructType, StructField, IntegerType\n",
        "from pyspark.sql.functions import col, expr, lit, substring, concat, concat_ws, when, coalesce\n",
        "from pyspark.sql import functions as F\n",
        "from functools import reduce\n"
      ],
      "metadata": {
        "id": "YzMowEo0TTc3"
      },
      "execution_count": 5,
      "outputs": []
    },
    {
      "cell_type": "markdown",
      "source": [
        "## Data Manipulation using Spark"
      ],
      "metadata": {
        "id": "AZ5O_U1VeMAH"
      }
    },
    {
      "cell_type": "code",
      "source": [
        "df = spark.read.csv('banklist.csv', sep = ',', inferSchema = True, header = True)\n",
        "\n",
        "print('df.count  :', df.count())\n",
        "print('df.col ct :', len(df.columns))\n",
        "print('df.columns:', df.columns)"
      ],
      "metadata": {
        "colab": {
          "base_uri": "https://localhost:8080/"
        },
        "id": "VYSAfUWQePIK",
        "outputId": "6171d9cf-f649-4b88-addc-2826ad1f6067"
      },
      "execution_count": 6,
      "outputs": [
        {
          "output_type": "stream",
          "name": "stdout",
          "text": [
            "df.count  : 561\n",
            "df.col ct : 6\n",
            "df.columns: ['Bank Name', 'City', 'ST', 'CERT', 'Acquiring Institution', 'Closing Date']\n"
          ]
        }
      ]
    },
    {
      "cell_type": "markdown",
      "source": [
        "## Using SQL in spark"
      ],
      "metadata": {
        "id": "x1gxYi0afzO-"
      }
    },
    {
      "cell_type": "code",
      "source": [
        "\n",
        "df.createOrReplaceTempView(\"banklist\")\n",
        "\n",
        "df_check = spark.sql('''select `Bank Name`, City, `Closing Date` from banklist''')\n",
        "df_check.show(4, truncate=False)"
      ],
      "metadata": {
        "colab": {
          "base_uri": "https://localhost:8080/"
        },
        "id": "av6YtCdvf0sY",
        "outputId": "0cfa15fa-e4ce-4b13-b137-37b1e3060179"
      },
      "execution_count": 7,
      "outputs": [
        {
          "output_type": "stream",
          "name": "stdout",
          "text": [
            "+--------------------------------+-------------+------------+\n",
            "|Bank Name                       |City         |Closing Date|\n",
            "+--------------------------------+-------------+------------+\n",
            "|The First State Bank            |Barboursville|3-Apr-20    |\n",
            "|Ericson State Bank              |Ericson      |14-Feb-20   |\n",
            "|City National Bank of New Jersey|Newark       |1-Nov-19    |\n",
            "|Resolute Bank                   |Maumee       |25-Oct-19   |\n",
            "+--------------------------------+-------------+------------+\n",
            "only showing top 4 rows\n",
            "\n"
          ]
        }
      ]
    },
    {
      "cell_type": "markdown",
      "source": [
        "## Dataframe Basic Operations"
      ],
      "metadata": {
        "id": "aHS_wSLngQIm"
      }
    },
    {
      "cell_type": "code",
      "source": [
        "df.describe().show()"
      ],
      "metadata": {
        "colab": {
          "base_uri": "https://localhost:8080/"
        },
        "id": "tvXQ4K2_gRZE",
        "outputId": "1ce497d0-061a-498c-b9d6-8b75c8d941d0"
      },
      "execution_count": 8,
      "outputs": [
        {
          "output_type": "stream",
          "name": "stdout",
          "text": [
            "+-------+--------------------+-------+----+-----------------+---------------------+------------+\n",
            "|summary|           Bank Name|   City|  ST|             CERT|Acquiring Institution|Closing Date|\n",
            "+-------+--------------------+-------+----+-----------------+---------------------+------------+\n",
            "|  count|                 561|    561| 561|              561|                  561|         561|\n",
            "|   mean|                NULL|   NULL|NULL|31685.68449197861|                 NULL|        NULL|\n",
            "| stddev|                NULL|   NULL|NULL|16446.65659309965|                 NULL|        NULL|\n",
            "|    min|1st American Stat...|Acworth|  AL|               91|      1st United Bank|    1-Aug-08|\n",
            "|    max|               ebank|Wyoming|  WY|            58701|  Your Community Bank|    9-Sep-11|\n",
            "+-------+--------------------+-------+----+-----------------+---------------------+------------+\n",
            "\n"
          ]
        }
      ]
    },
    {
      "cell_type": "code",
      "source": [
        "df.describe('City', 'ST').show()"
      ],
      "metadata": {
        "colab": {
          "base_uri": "https://localhost:8080/"
        },
        "id": "c91_AiPfgUVi",
        "outputId": "3e0277a1-d37f-4cd2-aac5-c0659f4733b9"
      },
      "execution_count": 9,
      "outputs": [
        {
          "output_type": "stream",
          "name": "stdout",
          "text": [
            "+-------+-------+----+\n",
            "|summary|   City|  ST|\n",
            "+-------+-------+----+\n",
            "|  count|    561| 561|\n",
            "|   mean|   NULL|NULL|\n",
            "| stddev|   NULL|NULL|\n",
            "|    min|Acworth|  AL|\n",
            "|    max|Wyoming|  WY|\n",
            "+-------+-------+----+\n",
            "\n"
          ]
        }
      ]
    },
    {
      "cell_type": "code",
      "source": [
        "\n",
        "print('df.count\t\t:', df.count())\n",
        "print('df.columns\t:', df.columns)\n",
        "print('df dtypes\t:', df.dtypes)\n",
        "print('df schema 1:', df.schema)"
      ],
      "metadata": {
        "colab": {
          "base_uri": "https://localhost:8080/"
        },
        "id": "DWwXzhwBgXuc",
        "outputId": "abeaef99-b244-4f55-ad05-11fb4eb0f451"
      },
      "execution_count": 10,
      "outputs": [
        {
          "output_type": "stream",
          "name": "stdout",
          "text": [
            "df.count\t\t: 561\n",
            "df.columns\t: ['Bank Name', 'City', 'ST', 'CERT', 'Acquiring Institution', 'Closing Date']\n",
            "df dtypes\t: [('Bank Name', 'string'), ('City', 'string'), ('ST', 'string'), ('CERT', 'int'), ('Acquiring Institution', 'string'), ('Closing Date', 'string')]\n",
            "df schema 1: StructType([StructField('Bank Name', StringType(), True), StructField('City', StringType(), True), StructField('ST', StringType(), True), StructField('CERT', IntegerType(), True), StructField('Acquiring Institution', StringType(), True), StructField('Closing Date', StringType(), True)])\n"
          ]
        }
      ]
    },
    {
      "cell_type": "code",
      "source": [
        "df = df.dropDuplicates()\n",
        "print('df.count\t\t:', df.count())\n",
        "print('df.columns\t:', df.columns)"
      ],
      "metadata": {
        "colab": {
          "base_uri": "https://localhost:8080/"
        },
        "id": "KQiTiWdNgZvg",
        "outputId": "6f6232c5-4bda-414c-9541-b0792cf2d373"
      },
      "execution_count": 11,
      "outputs": [
        {
          "output_type": "stream",
          "name": "stdout",
          "text": [
            "df.count\t\t: 561\n",
            "df.columns\t: ['Bank Name', 'City', 'ST', 'CERT', 'Acquiring Institution', 'Closing Date']\n"
          ]
        }
      ]
    },
    {
      "cell_type": "code",
      "source": [
        "df2 = df.select(*['Bank Name', 'City'])\n",
        "df2.show(2)"
      ],
      "metadata": {
        "colab": {
          "base_uri": "https://localhost:8080/"
        },
        "id": "AlXamlclgcVM",
        "outputId": "446114b2-1180-40c7-d5e5-0ebec72b7e2e"
      },
      "execution_count": 12,
      "outputs": [
        {
          "output_type": "stream",
          "name": "stdout",
          "text": [
            "+--------------------+--------+\n",
            "|           Bank Name|    City|\n",
            "+--------------------+--------+\n",
            "| First Bank of Idaho| Ketchum|\n",
            "|Amcore Bank, Nati...|Rockford|\n",
            "+--------------------+--------+\n",
            "only showing top 2 rows\n",
            "\n"
          ]
        }
      ]
    },
    {
      "cell_type": "code",
      "source": [
        "col_l = list(set(df.columns)  - {'CERT','ST'})\n",
        "df2 = df.select(*col_l)\n",
        "df2.show(2)"
      ],
      "metadata": {
        "colab": {
          "base_uri": "https://localhost:8080/"
        },
        "id": "wTEAlBeDgeQb",
        "outputId": "bcdf4689-18ab-44a4-9b42-30859dd3ae34"
      },
      "execution_count": 13,
      "outputs": [
        {
          "output_type": "stream",
          "name": "stdout",
          "text": [
            "+------------+--------------------+---------------------+--------+\n",
            "|Closing Date|           Bank Name|Acquiring Institution|    City|\n",
            "+------------+--------------------+---------------------+--------+\n",
            "|   24-Apr-09| First Bank of Idaho|      U.S. Bank, N.A.| Ketchum|\n",
            "|   23-Apr-10|Amcore Bank, Nati...|          Harris N.A.|Rockford|\n",
            "+------------+--------------------+---------------------+--------+\n",
            "only showing top 2 rows\n",
            "\n"
          ]
        }
      ]
    },
    {
      "cell_type": "code",
      "source": [
        "\n",
        "df2 = df \\\n",
        "  .withColumnRenamed('Bank Name'            , 'bank_name') \\\n",
        "  .withColumnRenamed('Acquiring Institution', 'acq_institution') \\\n",
        "  .withColumnRenamed('Closing Date'         , 'closing_date') \\\n",
        "  .withColumnRenamed('ST'                   , 'state') \\\n",
        "  .withColumnRenamed('CERT'                 , 'cert') #\\\n",
        "\n",
        "df2.show(2)"
      ],
      "metadata": {
        "colab": {
          "base_uri": "https://localhost:8080/"
        },
        "id": "IvTNFRu9gf0m",
        "outputId": "97a2cd5b-26ef-4c7c-a5b9-07b25bfb02f2"
      },
      "execution_count": 14,
      "outputs": [
        {
          "output_type": "stream",
          "name": "stdout",
          "text": [
            "+--------------------+--------+-----+-----+---------------+------------+\n",
            "|           bank_name|    City|state| cert|acq_institution|closing_date|\n",
            "+--------------------+--------+-----+-----+---------------+------------+\n",
            "| First Bank of Idaho| Ketchum|   ID|34396|U.S. Bank, N.A.|   24-Apr-09|\n",
            "|Amcore Bank, Nati...|Rockford|   IL| 3735|    Harris N.A.|   23-Apr-10|\n",
            "+--------------------+--------+-----+-----+---------------+------------+\n",
            "only showing top 2 rows\n",
            "\n"
          ]
        }
      ]
    },
    {
      "cell_type": "code",
      "source": [
        "rename_expr = [col(column).alias(column.replace(' ', '_')) for column in df.columns]\n",
        "\n",
        "df2 = df.select(*rename_expr)\n",
        "df2.show(2)\n",
        ""
      ],
      "metadata": {
        "colab": {
          "base_uri": "https://localhost:8080/"
        },
        "id": "dxdTBhp4ghri",
        "outputId": "bddbb4bf-e76a-4582-ce65-ec9d316321c4"
      },
      "execution_count": 15,
      "outputs": [
        {
          "output_type": "stream",
          "name": "stdout",
          "text": [
            "+--------------------+--------+---+-----+---------------------+------------+\n",
            "|           Bank_Name|    City| ST| CERT|Acquiring_Institution|Closing_Date|\n",
            "+--------------------+--------+---+-----+---------------------+------------+\n",
            "| First Bank of Idaho| Ketchum| ID|34396|      U.S. Bank, N.A.|   24-Apr-09|\n",
            "|Amcore Bank, Nati...|Rockford| IL| 3735|          Harris N.A.|   23-Apr-10|\n",
            "+--------------------+--------+---+-----+---------------------+------------+\n",
            "only showing top 2 rows\n",
            "\n"
          ]
        }
      ]
    },
    {
      "cell_type": "code",
      "source": [
        "df2 = df.withColumn('state', col('ST'))\n",
        "df2.show(2)"
      ],
      "metadata": {
        "colab": {
          "base_uri": "https://localhost:8080/"
        },
        "id": "tqf3k-pugjTy",
        "outputId": "76676e22-bdab-4735-b6c5-3b6314363398"
      },
      "execution_count": 16,
      "outputs": [
        {
          "output_type": "stream",
          "name": "stdout",
          "text": [
            "+--------------------+--------+---+-----+---------------------+------------+-----+\n",
            "|           Bank Name|    City| ST| CERT|Acquiring Institution|Closing Date|state|\n",
            "+--------------------+--------+---+-----+---------------------+------------+-----+\n",
            "| First Bank of Idaho| Ketchum| ID|34396|      U.S. Bank, N.A.|   24-Apr-09|   ID|\n",
            "|Amcore Bank, Nati...|Rockford| IL| 3735|          Harris N.A.|   23-Apr-10|   IL|\n",
            "+--------------------+--------+---+-----+---------------------+------------+-----+\n",
            "only showing top 2 rows\n",
            "\n"
          ]
        }
      ]
    },
    {
      "cell_type": "code",
      "source": [
        "\n",
        "df2 = df.withColumn('country', lit('US'))\n",
        "df2.show(2)"
      ],
      "metadata": {
        "colab": {
          "base_uri": "https://localhost:8080/"
        },
        "id": "7u9ahrjvgkwU",
        "outputId": "1174d005-5e06-431d-a905-2281f8052509"
      },
      "execution_count": 17,
      "outputs": [
        {
          "output_type": "stream",
          "name": "stdout",
          "text": [
            "+--------------------+--------+---+-----+---------------------+------------+-------+\n",
            "|           Bank Name|    City| ST| CERT|Acquiring Institution|Closing Date|country|\n",
            "+--------------------+--------+---+-----+---------------------+------------+-------+\n",
            "| First Bank of Idaho| Ketchum| ID|34396|      U.S. Bank, N.A.|   24-Apr-09|     US|\n",
            "|Amcore Bank, Nati...|Rockford| IL| 3735|          Harris N.A.|   23-Apr-10|     US|\n",
            "+--------------------+--------+---+-----+---------------------+------------+-------+\n",
            "only showing top 2 rows\n",
            "\n"
          ]
        }
      ]
    },
    {
      "cell_type": "code",
      "source": [
        "df2 = df.drop('CERT')\n",
        "df2.show(2)\n",
        ""
      ],
      "metadata": {
        "colab": {
          "base_uri": "https://localhost:8080/"
        },
        "id": "aGd5Zyl4gmPE",
        "outputId": "ee901b18-26c3-4038-c345-1a2488a538da"
      },
      "execution_count": 18,
      "outputs": [
        {
          "output_type": "stream",
          "name": "stdout",
          "text": [
            "+--------------------+--------+---+---------------------+------------+\n",
            "|           Bank Name|    City| ST|Acquiring Institution|Closing Date|\n",
            "+--------------------+--------+---+---------------------+------------+\n",
            "| First Bank of Idaho| Ketchum| ID|      U.S. Bank, N.A.|   24-Apr-09|\n",
            "|Amcore Bank, Nati...|Rockford| IL|          Harris N.A.|   23-Apr-10|\n",
            "+--------------------+--------+---+---------------------+------------+\n",
            "only showing top 2 rows\n",
            "\n"
          ]
        }
      ]
    },
    {
      "cell_type": "code",
      "source": [
        "df2 = df.drop(*['CERT','ST'])\n",
        "df2.show(2)\n",
        ""
      ],
      "metadata": {
        "colab": {
          "base_uri": "https://localhost:8080/"
        },
        "id": "uUVd40I5gn75",
        "outputId": "bcc2e7c6-1ae9-42bf-8eb7-0e93228675a8"
      },
      "execution_count": 19,
      "outputs": [
        {
          "output_type": "stream",
          "name": "stdout",
          "text": [
            "+--------------------+--------+---------------------+------------+\n",
            "|           Bank Name|    City|Acquiring Institution|Closing Date|\n",
            "+--------------------+--------+---------------------+------------+\n",
            "| First Bank of Idaho| Ketchum|      U.S. Bank, N.A.|   24-Apr-09|\n",
            "|Amcore Bank, Nati...|Rockford|          Harris N.A.|   23-Apr-10|\n",
            "+--------------------+--------+---------------------+------------+\n",
            "only showing top 2 rows\n",
            "\n"
          ]
        }
      ]
    },
    {
      "cell_type": "code",
      "source": [
        "\n",
        "# Equal to values\n",
        "df2 = df.where(df['ST'] == 'NE')\n",
        "\n",
        "# Between values\n",
        "df3 = df.where(df['CERT'].between('1000','2000'))\n",
        "\n",
        "# Is inside multiple values\n",
        "df4 = df.where(df['ST'].isin('NE','IL'))\n",
        "\n",
        "print('df.count  :', df.count())\n",
        "print('df2.count :', df2.count())\n",
        "print('df3.count :', df3.count())\n",
        "print('df4.count :', df4.count())\n"
      ],
      "metadata": {
        "colab": {
          "base_uri": "https://localhost:8080/"
        },
        "id": "lStNHOBRgpsd",
        "outputId": "414e7152-0644-4304-e912-ad0dd0a903ab"
      },
      "execution_count": 20,
      "outputs": [
        {
          "output_type": "stream",
          "name": "stdout",
          "text": [
            "df.count  : 561\n",
            "df2.count : 4\n",
            "df3.count : 9\n",
            "df4.count : 73\n"
          ]
        }
      ]
    },
    {
      "cell_type": "code",
      "source": [
        "# Equal to values\n",
        "df2 = df.where(df['ST'] == 'NE')\n",
        "\n",
        "print('\\ndf2 sample below')\n",
        "df2.show(2)"
      ],
      "metadata": {
        "colab": {
          "base_uri": "https://localhost:8080/"
        },
        "id": "0nyQflkCgrSP",
        "outputId": "6f15c5e9-9b0a-4781-8b0c-3d75633510ac"
      },
      "execution_count": 21,
      "outputs": [
        {
          "output_type": "stream",
          "name": "stdout",
          "text": [
            "\n",
            "df2 sample below\n",
            "+-------------------+---------+---+-----+---------------------+------------+\n",
            "|          Bank Name|     City| ST| CERT|Acquiring Institution|Closing Date|\n",
            "+-------------------+---------+---+-----+---------------------+------------+\n",
            "|       TierOne Bank|  Lincoln| NE|29341|   Great Western Bank|    4-Jun-10|\n",
            "|Sherman County Bank|Loup City| NE| 5431|        Heritage Bank|   13-Feb-09|\n",
            "+-------------------+---------+---+-----+---------------------+------------+\n",
            "only showing top 2 rows\n",
            "\n"
          ]
        }
      ]
    },
    {
      "cell_type": "code",
      "source": [
        "\n",
        "df2 = df.where((df['ST'] == 'NE') & (df['City'] == 'Ericson'))\n",
        "df2.show(3)"
      ],
      "metadata": {
        "colab": {
          "base_uri": "https://localhost:8080/"
        },
        "id": "WAUFxO2HgspL",
        "outputId": "bf370a07-c52f-4052-c07f-a69a4816aece"
      },
      "execution_count": 22,
      "outputs": [
        {
          "output_type": "stream",
          "name": "stdout",
          "text": [
            "+------------------+-------+---+-----+---------------------+------------+\n",
            "|         Bank Name|   City| ST| CERT|Acquiring Institution|Closing Date|\n",
            "+------------------+-------+---+-----+---------------------+------------+\n",
            "|Ericson State Bank|Ericson| NE|18265| Farmers and Merch...|   14-Feb-20|\n",
            "+------------------+-------+---+-----+---------------------+------------+\n",
            "\n"
          ]
        }
      ]
    },
    {
      "cell_type": "code",
      "source": [
        "print('='*50)\n",
        "print('Pre cast')\n",
        "print(df.printSchema())\n",
        "\n",
        "df2 = df \\\n",
        ".withColumn('CERT_str1', df['CERT'].cast('string')) \\\n",
        ".withColumn('CERT_str2', df['CERT'].cast(StringType())) #\\\n",
        "\n",
        "print('='*50)\n",
        "print('Post cast')\n",
        "print(df2.printSchema())"
      ],
      "metadata": {
        "colab": {
          "base_uri": "https://localhost:8080/"
        },
        "id": "ACyDUNzxguYQ",
        "outputId": "e50e8909-41f4-4b76-f181-b518556fafad"
      },
      "execution_count": 23,
      "outputs": [
        {
          "output_type": "stream",
          "name": "stdout",
          "text": [
            "==================================================\n",
            "Pre cast\n",
            "root\n",
            " |-- Bank Name: string (nullable = true)\n",
            " |-- City: string (nullable = true)\n",
            " |-- ST: string (nullable = true)\n",
            " |-- CERT: integer (nullable = true)\n",
            " |-- Acquiring Institution: string (nullable = true)\n",
            " |-- Closing Date: string (nullable = true)\n",
            "\n",
            "None\n",
            "==================================================\n",
            "Post cast\n",
            "root\n",
            " |-- Bank Name: string (nullable = true)\n",
            " |-- City: string (nullable = true)\n",
            " |-- ST: string (nullable = true)\n",
            " |-- CERT: integer (nullable = true)\n",
            " |-- Acquiring Institution: string (nullable = true)\n",
            " |-- Closing Date: string (nullable = true)\n",
            " |-- CERT_str1: string (nullable = true)\n",
            " |-- CERT_str2: string (nullable = true)\n",
            "\n",
            "None\n"
          ]
        }
      ]
    },
    {
      "cell_type": "code",
      "source": [
        "\n",
        "# Pre replace\n",
        "df.show(2)\n",
        "\n",
        "# Post replace\n",
        "print('Replace 7 in the above dataframe with 17 at all instances')\n",
        "df.na.replace(7,17).show(2)"
      ],
      "metadata": {
        "colab": {
          "base_uri": "https://localhost:8080/"
        },
        "id": "_ghUix8NgwJB",
        "outputId": "98487ea2-2273-4271-9d2a-8e70b8debe49"
      },
      "execution_count": 24,
      "outputs": [
        {
          "output_type": "stream",
          "name": "stdout",
          "text": [
            "+--------------------+--------+---+-----+---------------------+------------+\n",
            "|           Bank Name|    City| ST| CERT|Acquiring Institution|Closing Date|\n",
            "+--------------------+--------+---+-----+---------------------+------------+\n",
            "| First Bank of Idaho| Ketchum| ID|34396|      U.S. Bank, N.A.|   24-Apr-09|\n",
            "|Amcore Bank, Nati...|Rockford| IL| 3735|          Harris N.A.|   23-Apr-10|\n",
            "+--------------------+--------+---+-----+---------------------+------------+\n",
            "only showing top 2 rows\n",
            "\n",
            "Replace 7 in the above dataframe with 17 at all instances\n",
            "+--------------------+--------+---+-----+---------------------+------------+\n",
            "|           Bank Name|    City| ST| CERT|Acquiring Institution|Closing Date|\n",
            "+--------------------+--------+---+-----+---------------------+------------+\n",
            "| First Bank of Idaho| Ketchum| ID|34396|      U.S. Bank, N.A.|   24-Apr-09|\n",
            "|Amcore Bank, Nati...|Rockford| IL| 3735|          Harris N.A.|   23-Apr-10|\n",
            "+--------------------+--------+---+-----+---------------------+------------+\n",
            "only showing top 2 rows\n",
            "\n"
          ]
        }
      ]
    }
  ]
}